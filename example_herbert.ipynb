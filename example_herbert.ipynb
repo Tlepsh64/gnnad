{
 "cells": [
  {
   "cell_type": "code",
   "execution_count": 1,
   "metadata": {},
   "outputs": [],
   "source": [
    "import pandas as pd\n",
    "from sklearn import preprocessing\n",
    "\n",
    "from gnnad.graphanomaly import GNNAD\n",
    "from gnnad.plot import plot_test_anomalies, plot_predictions, plot_sensor_error_scores\n",
    "\n",
    "def normalise(X, scaler_fn):\n",
    "    scaler = scaler_fn.fit(X)\n",
    "    return pd.DataFrame(scaler.transform(X), index=X.index, columns = X.columns)"
   ]
  },
  {
   "cell_type": "code",
   "execution_count": 2,
   "metadata": {},
   "outputs": [],
   "source": [
    "# read in training data\n",
    "train = pd.read_csv('/nfs/home/canzen/gnnad/wadi_data/train.csv', index_col=0)\n",
    "X_train = train.iloc[:, :-1]\n",
    "#X_train.index = pd.to_datetime(X_train.index)\n",
    "\n",
    "# read in test data\n",
    "test = pd.read_csv('/nfs/home/canzen/gnnad/wadi_data/test.csv', index_col=0)\n",
    "#X_tmp.index = pd.to_datetime(X_tmp.index)\n",
    "X_test = test.iloc[:, :-1]\n",
    "y_test = test['attack']\n",
    "\n",
    "# normalise\n",
    "#X_test = normalise(X_test, preprocessing.StandardScaler())\n",
    "#X_train = normalise(X_train, preprocessing.StandardScaler())\n",
    "\n",
    "# create ANOOMS dict for plotting\n",
    "#ANOMS = {'type1': {}}\n",
    "#X_test_anoms = X_tmp.iloc[:,8:]\n",
    "\n",
    "#for i in range(len(X_test_anoms.columns)):\n",
    "#    anom_col_name = X_test_anoms.columns[i]\n",
    "#    sensor_col_name = X_test.columns[i]\n",
    "#    anom_idxs = X_test_anoms[anom_col_name][X_test_anoms[anom_col_name]].index\n",
    "#\n",
    "#    if len(anom_idxs) > 0:\n",
    "#        ANOMS['type1'][sensor_col_name] = anom_idxs"
   ]
  },
  {
   "cell_type": "code",
   "execution_count": 3,
   "metadata": {},
   "outputs": [],
   "source": [
    "# plot input data\n",
    "#plot_test_anomalies(X_test, ANOMS)"
   ]
  },
  {
   "cell_type": "code",
   "execution_count": 4,
   "metadata": {},
   "outputs": [
    {
     "name": "stderr",
     "output_type": "stream",
     "text": [
      "/home/c/canzen/.local/lib/python3.8/site-packages/torch/autograd/graph.py:744: UserWarning: CUDA initialization: The NVIDIA driver on your system is too old (found version 11040). Please update your GPU driver by downloading and installing a new version from the URL: http://www.nvidia.com/Download/index.aspx Alternatively, go to: https://pytorch.org to install a PyTorch version that has been compiled with your version of the CUDA driver. (Triggered internally at ../c10/cuda/CUDAFunctions.cpp:108.)\n",
      "  return Variable._execution_engine.run_backward(  # Calls into the C++ engine to run the backward pass\n"
     ]
    },
    {
     "name": "stdout",
     "output_type": "stream",
     "text": [
      "epoch (0 / 50) (Loss:0.17127507, ACU_loss:3.59677653)\n",
      "epoch (1 / 50) (Loss:0.07710462, ACU_loss:1.61919711)\n",
      "epoch (2 / 50) (Loss:0.06010792, ACU_loss:1.26226642)\n",
      "epoch (3 / 50) (Loss:0.04943165, ACU_loss:1.03806471)\n",
      "epoch (4 / 50) (Loss:0.04216208, ACU_loss:0.88540373)\n",
      "epoch (5 / 50) (Loss:0.03608968, ACU_loss:0.75788337)\n",
      "epoch (6 / 50) (Loss:0.03083129, ACU_loss:0.64745709)\n",
      "epoch (7 / 50) (Loss:0.02529539, ACU_loss:0.53120310)\n",
      "epoch (8 / 50) (Loss:0.02146659, ACU_loss:0.45079838)\n",
      "epoch (9 / 50) (Loss:0.01815354, ACU_loss:0.38122427)\n",
      "epoch (10 / 50) (Loss:0.01574942, ACU_loss:0.33073779)\n",
      "epoch (11 / 50) (Loss:0.01422495, ACU_loss:0.29872385)\n",
      "epoch (12 / 50) (Loss:0.01277856, ACU_loss:0.26834975)\n",
      "epoch (13 / 50) (Loss:0.01148485, ACU_loss:0.24118177)\n",
      "epoch (14 / 50) (Loss:0.01068395, ACU_loss:0.22436302)\n",
      "epoch (15 / 50) (Loss:0.01016480, ACU_loss:0.21346079)\n",
      "epoch (16 / 50) (Loss:0.00961395, ACU_loss:0.20189295)\n",
      "epoch (17 / 50) (Loss:0.00909035, ACU_loss:0.19089733)\n",
      "epoch (18 / 50) (Loss:0.00858289, ACU_loss:0.18024076)\n",
      "epoch (19 / 50) (Loss:0.00877273, ACU_loss:0.18422724)\n",
      "epoch (20 / 50) (Loss:0.00891828, ACU_loss:0.18728378)\n",
      "epoch (21 / 50) (Loss:0.00882929, ACU_loss:0.18541514)\n",
      "epoch (22 / 50) (Loss:0.00865547, ACU_loss:0.18176485)\n",
      "epoch (23 / 50) (Loss:0.00837525, ACU_loss:0.17588015)\n",
      "epoch (24 / 50) (Loss:0.00815482, ACU_loss:0.17125115)\n",
      "epoch (25 / 50) (Loss:0.00824555, ACU_loss:0.17315652)\n",
      "epoch (26 / 50) (Loss:0.00852789, ACU_loss:0.17908562)\n",
      "epoch (27 / 50) (Loss:0.00842325, ACU_loss:0.17688824)\n",
      "epoch (28 / 50) (Loss:0.00787789, ACU_loss:0.16543570)\n",
      "epoch (29 / 50) (Loss:0.00778278, ACU_loss:0.16343837)\n",
      "epoch (30 / 50) (Loss:0.00754700, ACU_loss:0.15848697)\n",
      "epoch (31 / 50) (Loss:0.00745015, ACU_loss:0.15645315)\n",
      "epoch (32 / 50) (Loss:0.00729270, ACU_loss:0.15314662)\n",
      "epoch (33 / 50) (Loss:0.00707228, ACU_loss:0.14851790)\n",
      "epoch (34 / 50) (Loss:0.00741151, ACU_loss:0.15564164)\n",
      "epoch (35 / 50) (Loss:0.00726762, ACU_loss:0.15262011)\n",
      "epoch (36 / 50) (Loss:0.00683415, ACU_loss:0.14351705)\n",
      "epoch (37 / 50) (Loss:0.00676985, ACU_loss:0.14216687)\n",
      "epoch (38 / 50) (Loss:0.00713322, ACU_loss:0.14979760)\n",
      "epoch (39 / 50) (Loss:0.00673059, ACU_loss:0.14134232)\n",
      "epoch (40 / 50) (Loss:0.00613142, ACU_loss:0.12875981)\n",
      "epoch (41 / 50) (Loss:0.00641208, ACU_loss:0.13465372)\n",
      "epoch (42 / 50) (Loss:0.00605083, ACU_loss:0.12706740)\n",
      "epoch (43 / 50) (Loss:0.00580944, ACU_loss:0.12199826)\n",
      "epoch (44 / 50) (Loss:0.00596240, ACU_loss:0.12521036)\n",
      "epoch (45 / 50) (Loss:0.00618835, ACU_loss:0.12995538)\n",
      "epoch (46 / 50) (Loss:0.00631076, ACU_loss:0.13252605)\n",
      "epoch (47 / 50) (Loss:0.00628843, ACU_loss:0.13205693)\n",
      "epoch (48 / 50) (Loss:0.00600661, ACU_loss:0.12613882)\n",
      "epoch (49 / 50) (Loss:0.00586573, ACU_loss:0.12318026)\n",
      "=========================** Result **============================\n",
      "\n",
      "recall: 76.8\n",
      "precision: 13.2\n",
      "accuracy: 69.1\n",
      "specificity: 68.7\n",
      "f1: 22.6\n"
     ]
    }
   ],
   "source": [
    "# run model\n",
    "model = GNNAD(threshold_type=\"max_validation\", topk=30, \n",
    "              slide_win=5, epoch=50, early_stop_win=10, \n",
    "              slide_stride=1, embed_dim=128, \n",
    "              out_layer_inter_dim=128, device='cpu')\n",
    "fitted_model = model.fit(X_train, X_test, y_test)"
   ]
  },
  {
   "cell_type": "code",
   "execution_count": 5,
   "metadata": {},
   "outputs": [
    {
     "name": "stdout",
     "output_type": "stream",
     "text": [
      "----------------------------------------------------------------\n",
      "        Layer (type)               Output Shape         Param #\n",
      "================================================================\n",
      "         Embedding-1                  [-1, 128]          16,128\n",
      "         Embedding-2                  [-1, 128]          16,128\n",
      "            Linear-3                  [-1, 128]             640\n",
      "    SumAggregation-4               [-1, 1, 128]               0\n",
      "        GraphLayer-5                  [-1, 128]             128\n",
      "       BatchNorm1d-6                  [-1, 128]             256\n",
      "              ReLU-7                  [-1, 128]               0\n",
      "          GNNLayer-8                  [-1, 128]               0\n",
      "         Embedding-9                  [-1, 128]          16,128\n",
      "      BatchNorm1d-10             [-1, 128, 126]             256\n",
      "          Dropout-11             [-1, 126, 128]               0\n",
      "           Linear-12               [-1, 126, 1]             129\n",
      "         OutLayer-13               [-1, 126, 1]               0\n",
      "================================================================\n",
      "Total params: 49,793\n",
      "Trainable params: 49,665\n",
      "Non-trainable params: 128\n",
      "----------------------------------------------------------------\n",
      "Input size (MB): 0.00\n",
      "Forward/backward pass size (MB): 0.26\n",
      "Params size (MB): 0.19\n",
      "Estimated Total Size (MB): 0.45\n",
      "----------------------------------------------------------------\n"
     ]
    }
   ],
   "source": [
    "# model summary\n",
    "fitted_model.summary()"
   ]
  },
  {
   "cell_type": "code",
   "execution_count": 6,
   "metadata": {},
   "outputs": [
    {
     "name": "stdout",
     "output_type": "stream",
     "text": [
      "recall: 90.1\n",
      "precision: 9.9\n",
      "accuracy: 51.2\n",
      "specificity: 48.8\n",
      "f1: 17.8\n"
     ]
    }
   ],
   "source": [
    "# GDN+, sensor thresholds\n",
    "preds = fitted_model.sensor_threshold_preds(tau = 99)\n",
    "fitted_model.print_eval_metrics(preds)"
   ]
  },
  {
   "cell_type": "code",
   "execution_count": null,
   "metadata": {},
   "outputs": [],
   "source": [
    "# plot predictions\n",
    "plot_predictions(fitted_model, X_test, ANOMS, preds = preds, figsize=(20, 20))"
   ]
  },
  {
   "cell_type": "code",
   "execution_count": null,
   "metadata": {},
   "outputs": [],
   "source": [
    "plot_sensor_error_scores(fitted_model, X_test)"
   ]
  }
 ],
 "metadata": {
  "kernelspec": {
   "display_name": "gdn_old",
   "language": "python",
   "name": "python3"
  },
  "language_info": {
   "codemirror_mode": {
    "name": "ipython",
    "version": 3
   },
   "file_extension": ".py",
   "mimetype": "text/x-python",
   "name": "python",
   "nbconvert_exporter": "python",
   "pygments_lexer": "ipython3",
   "version": "3.8.19"
  },
  "orig_nbformat": 4
 },
 "nbformat": 4,
 "nbformat_minor": 2
}
