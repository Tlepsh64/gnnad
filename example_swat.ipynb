{
 "cells": [
  {
   "cell_type": "code",
   "execution_count": 1,
   "metadata": {},
   "outputs": [],
   "source": [
    "import pandas as pd\n",
    "from sklearn import preprocessing\n",
    "\n",
    "from gnnad.graphanomaly import GNNAD\n",
    "from gnnad.plot import plot_test_anomalies, plot_predictions, plot_sensor_error_scores\n",
    "\n",
    "def normalise(X, scaler_fn):\n",
    "    scaler = scaler_fn.fit(X)\n",
    "    return pd.DataFrame(scaler.transform(X), index=X.index, columns = X.columns)"
   ]
  },
  {
   "cell_type": "code",
   "execution_count": 3,
   "metadata": {},
   "outputs": [],
   "source": [
    "# read in training data\n",
    "train = pd.read_csv('/nfs/home/canzen/gnnad/swat_data/train.csv', index_col=0)\n",
    "X_train = train.iloc[:, :-1]\n",
    "#X_train.index = pd.to_datetime(X_train.index)\n",
    "\n",
    "# read in test data\n",
    "test = pd.read_csv('/nfs/home/canzen/gnnad/swat_data/test.csv', index_col=0)\n",
    "#X_tmp.index = pd.to_datetime(X_tmp.index)\n",
    "X_test = test.iloc[:, :-1]\n",
    "y_test = test['attack']\n",
    "\n",
    "# normalise\n",
    "#X_test = normalise(X_test, preprocessing.StandardScaler())\n",
    "#X_train = normalise(X_train, preprocessing.StandardScaler())\n",
    "\n",
    "# create ANOOMS dict for plotting\n",
    "#ANOMS = {'type1': {}}\n",
    "#X_test_anoms = X_tmp.iloc[:,8:]\n",
    "\n",
    "#for i in range(len(X_test_anoms.columns)):\n",
    "#    anom_col_name = X_test_anoms.columns[i]\n",
    "#    sensor_col_name = X_test.columns[i]\n",
    "#    anom_idxs = X_test_anoms[anom_col_name][X_test_anoms[anom_col_name]].index\n",
    "#\n",
    "#    if len(anom_idxs) > 0:\n",
    "#        ANOMS['type1'][sensor_col_name] = anom_idxs"
   ]
  },
  {
   "cell_type": "code",
   "execution_count": 4,
   "metadata": {},
   "outputs": [],
   "source": [
    "# plot input data\n",
    "#plot_test_anomalies(X_test, ANOMS)"
   ]
  },
  {
   "cell_type": "code",
   "execution_count": 6,
   "metadata": {},
   "outputs": [
    {
     "name": "stdout",
     "output_type": "stream",
     "text": [
      "epoch (0 / 50) (Loss:0.06132565, ACU_loss:20.54409178)\n",
      "epoch (1 / 50) (Loss:0.01400033, ACU_loss:4.69011188)\n",
      "epoch (2 / 50) (Loss:0.00946194, ACU_loss:3.16974902)\n",
      "epoch (3 / 50) (Loss:0.00763743, ACU_loss:2.55853975)\n",
      "epoch (4 / 50) (Loss:0.00688096, ACU_loss:2.30512147)\n",
      "epoch (5 / 50) (Loss:0.00686072, ACU_loss:2.29834178)\n",
      "epoch (6 / 50) (Loss:0.00590032, ACU_loss:1.97660821)\n",
      "epoch (7 / 50) (Loss:0.00499798, ACU_loss:1.67432420)\n",
      "epoch (8 / 50) (Loss:0.00485472, ACU_loss:1.62633169)\n",
      "epoch (9 / 50) (Loss:0.00453757, ACU_loss:1.52008560)\n",
      "epoch (10 / 50) (Loss:0.00422941, ACU_loss:1.41685266)\n",
      "epoch (11 / 50) (Loss:0.00414152, ACU_loss:1.38740886)\n",
      "epoch (12 / 50) (Loss:0.00401334, ACU_loss:1.34446899)\n",
      "epoch (13 / 50) (Loss:0.00402905, ACU_loss:1.34973291)\n",
      "epoch (14 / 50) (Loss:0.00395257, ACU_loss:1.32411194)\n",
      "epoch (15 / 50) (Loss:0.00400093, ACU_loss:1.34031146)\n",
      "epoch (16 / 50) (Loss:0.00384867, ACU_loss:1.28930570)\n",
      "epoch (17 / 50) (Loss:0.00395279, ACU_loss:1.32418439)\n",
      "epoch (18 / 50) (Loss:0.00403399, ACU_loss:1.35138620)\n",
      "epoch (19 / 50) (Loss:0.00402357, ACU_loss:1.34789666)\n",
      "epoch (20 / 50) (Loss:0.00388839, ACU_loss:1.30261119)\n",
      "epoch (21 / 50) (Loss:0.00384689, ACU_loss:1.28870674)\n",
      "epoch (22 / 50) (Loss:0.00372821, ACU_loss:1.24895098)\n",
      "=========================** Result **============================\n",
      "\n",
      "recall: 62.6\n",
      "precision: 40.4\n",
      "accuracy: 84.1\n",
      "specificity: 87.1\n",
      "f1: 49.1\n"
     ]
    }
   ],
   "source": [
    "# run model\n",
    "model = GNNAD(threshold_type=\"max_validation\", topk=15, \n",
    "              slide_win=5, epoch=50, early_stop_win=10, \n",
    "              slide_stride=1, embed_dim=64, \n",
    "              out_layer_inter_dim=64, device='cpu')\n",
    "fitted_model = model.fit(X_train, X_test, y_test)"
   ]
  },
  {
   "cell_type": "code",
   "execution_count": 7,
   "metadata": {},
   "outputs": [
    {
     "name": "stdout",
     "output_type": "stream",
     "text": [
      "----------------------------------------------------------------\n",
      "        Layer (type)               Output Shape         Param #\n",
      "================================================================\n",
      "         Embedding-1                   [-1, 64]           3,200\n",
      "         Embedding-2                   [-1, 64]           3,200\n",
      "            Linear-3                   [-1, 64]             320\n",
      "    SumAggregation-4                [-1, 1, 64]               0\n",
      "        GraphLayer-5                   [-1, 64]              64\n",
      "       BatchNorm1d-6                   [-1, 64]             128\n",
      "              ReLU-7                   [-1, 64]               0\n",
      "          GNNLayer-8                   [-1, 64]               0\n",
      "         Embedding-9                   [-1, 64]           3,200\n",
      "      BatchNorm1d-10               [-1, 64, 50]             128\n",
      "          Dropout-11               [-1, 50, 64]               0\n",
      "           Linear-12                [-1, 50, 1]              65\n",
      "         OutLayer-13                [-1, 50, 1]               0\n",
      "================================================================\n",
      "Total params: 10,305\n",
      "Trainable params: 10,241\n",
      "Non-trainable params: 64\n",
      "----------------------------------------------------------------\n",
      "Input size (MB): 0.00\n",
      "Forward/backward pass size (MB): 0.05\n",
      "Params size (MB): 0.04\n",
      "Estimated Total Size (MB): 0.09\n",
      "----------------------------------------------------------------\n"
     ]
    }
   ],
   "source": [
    "# model summary\n",
    "fitted_model.summary()"
   ]
  },
  {
   "cell_type": "code",
   "execution_count": 8,
   "metadata": {},
   "outputs": [
    {
     "name": "stdout",
     "output_type": "stream",
     "text": [
      "recall: 82.9\n",
      "precision: 31.0\n",
      "accuracy: 75.4\n",
      "specificity: 74.4\n",
      "f1: 45.2\n"
     ]
    }
   ],
   "source": [
    "# GDN+, sensor thresholds\n",
    "preds = fitted_model.sensor_threshold_preds(tau = 99)\n",
    "fitted_model.print_eval_metrics(preds)"
   ]
  },
  {
   "cell_type": "code",
   "execution_count": null,
   "metadata": {},
   "outputs": [],
   "source": [
    "# plot predictions\n",
    "#plot_predictions(fitted_model, X_test, ANOMS, preds = preds, figsize=(20, 20))"
   ]
  },
  {
   "cell_type": "code",
   "execution_count": null,
   "metadata": {},
   "outputs": [],
   "source": [
    "#plot_sensor_error_scores(fitted_model, X_test)"
   ]
  }
 ],
 "metadata": {
  "kernelspec": {
   "display_name": "gdn_old",
   "language": "python",
   "name": "python3"
  },
  "language_info": {
   "codemirror_mode": {
    "name": "ipython",
    "version": 3
   },
   "file_extension": ".py",
   "mimetype": "text/x-python",
   "name": "python",
   "nbconvert_exporter": "python",
   "pygments_lexer": "ipython3",
   "version": "3.8.19"
  },
  "orig_nbformat": 4
 },
 "nbformat": 4,
 "nbformat_minor": 2
}
